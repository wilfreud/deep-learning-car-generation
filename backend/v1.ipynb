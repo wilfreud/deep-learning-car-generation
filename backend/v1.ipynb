{
  "nbformat": 4,
  "nbformat_minor": 0,
  "metadata": {
    "colab": {
      "provenance": [],
      "gpuType": "T4"
    },
    "kernelspec": {
      "name": "python3",
      "display_name": "Python 3"
    },
    "language_info": {
      "name": "python"
    },
    "accelerator": "GPU",
    "widgets": {
      "application/vnd.jupyter.widget-state+json": {
        "49a56f34ee2b464ab50d0d0f703c7eef": {
          "model_module": "@jupyter-widgets/controls",
          "model_name": "HBoxModel",
          "model_module_version": "1.5.0",
          "state": {
            "_dom_classes": [],
            "_model_module": "@jupyter-widgets/controls",
            "_model_module_version": "1.5.0",
            "_model_name": "HBoxModel",
            "_view_count": null,
            "_view_module": "@jupyter-widgets/controls",
            "_view_module_version": "1.5.0",
            "_view_name": "HBoxView",
            "box_style": "",
            "children": [
              "IPY_MODEL_5444c20fc8d6422b8f1db9729863fb3d",
              "IPY_MODEL_aa967de765084bd2bca157ee56fb4cfe",
              "IPY_MODEL_8d20fcba4a874951a2758edaf3a87136"
            ],
            "layout": "IPY_MODEL_1adc24d1cc7448b3b612122f1e93522f"
          }
        },
        "5444c20fc8d6422b8f1db9729863fb3d": {
          "model_module": "@jupyter-widgets/controls",
          "model_name": "HTMLModel",
          "model_module_version": "1.5.0",
          "state": {
            "_dom_classes": [],
            "_model_module": "@jupyter-widgets/controls",
            "_model_module_version": "1.5.0",
            "_model_name": "HTMLModel",
            "_view_count": null,
            "_view_module": "@jupyter-widgets/controls",
            "_view_module_version": "1.5.0",
            "_view_name": "HTMLView",
            "description": "",
            "description_tooltip": null,
            "layout": "IPY_MODEL_52eea0f0c9db45758151ef5a7e37d8d1",
            "placeholder": "​",
            "style": "IPY_MODEL_98ca9b11fffb4da188559ef63d107e73",
            "value": "Loading pipeline components...: 100%"
          }
        },
        "aa967de765084bd2bca157ee56fb4cfe": {
          "model_module": "@jupyter-widgets/controls",
          "model_name": "FloatProgressModel",
          "model_module_version": "1.5.0",
          "state": {
            "_dom_classes": [],
            "_model_module": "@jupyter-widgets/controls",
            "_model_module_version": "1.5.0",
            "_model_name": "FloatProgressModel",
            "_view_count": null,
            "_view_module": "@jupyter-widgets/controls",
            "_view_module_version": "1.5.0",
            "_view_name": "ProgressView",
            "bar_style": "success",
            "description": "",
            "description_tooltip": null,
            "layout": "IPY_MODEL_5a875a72b39f489b96028ff4c2b767b7",
            "max": 7,
            "min": 0,
            "orientation": "horizontal",
            "style": "IPY_MODEL_e1eef7ee761643368c909b6ddedd1c11",
            "value": 7
          }
        },
        "8d20fcba4a874951a2758edaf3a87136": {
          "model_module": "@jupyter-widgets/controls",
          "model_name": "HTMLModel",
          "model_module_version": "1.5.0",
          "state": {
            "_dom_classes": [],
            "_model_module": "@jupyter-widgets/controls",
            "_model_module_version": "1.5.0",
            "_model_name": "HTMLModel",
            "_view_count": null,
            "_view_module": "@jupyter-widgets/controls",
            "_view_module_version": "1.5.0",
            "_view_name": "HTMLView",
            "description": "",
            "description_tooltip": null,
            "layout": "IPY_MODEL_0ac619e95fe242c8813b1dcb72d44039",
            "placeholder": "​",
            "style": "IPY_MODEL_548e31bd10674b36bd0cb4affed5f7ac",
            "value": " 7/7 [00:01&lt;00:00,  5.63it/s]"
          }
        },
        "1adc24d1cc7448b3b612122f1e93522f": {
          "model_module": "@jupyter-widgets/base",
          "model_name": "LayoutModel",
          "model_module_version": "1.2.0",
          "state": {
            "_model_module": "@jupyter-widgets/base",
            "_model_module_version": "1.2.0",
            "_model_name": "LayoutModel",
            "_view_count": null,
            "_view_module": "@jupyter-widgets/base",
            "_view_module_version": "1.2.0",
            "_view_name": "LayoutView",
            "align_content": null,
            "align_items": null,
            "align_self": null,
            "border": null,
            "bottom": null,
            "display": null,
            "flex": null,
            "flex_flow": null,
            "grid_area": null,
            "grid_auto_columns": null,
            "grid_auto_flow": null,
            "grid_auto_rows": null,
            "grid_column": null,
            "grid_gap": null,
            "grid_row": null,
            "grid_template_areas": null,
            "grid_template_columns": null,
            "grid_template_rows": null,
            "height": null,
            "justify_content": null,
            "justify_items": null,
            "left": null,
            "margin": null,
            "max_height": null,
            "max_width": null,
            "min_height": null,
            "min_width": null,
            "object_fit": null,
            "object_position": null,
            "order": null,
            "overflow": null,
            "overflow_x": null,
            "overflow_y": null,
            "padding": null,
            "right": null,
            "top": null,
            "visibility": null,
            "width": null
          }
        },
        "52eea0f0c9db45758151ef5a7e37d8d1": {
          "model_module": "@jupyter-widgets/base",
          "model_name": "LayoutModel",
          "model_module_version": "1.2.0",
          "state": {
            "_model_module": "@jupyter-widgets/base",
            "_model_module_version": "1.2.0",
            "_model_name": "LayoutModel",
            "_view_count": null,
            "_view_module": "@jupyter-widgets/base",
            "_view_module_version": "1.2.0",
            "_view_name": "LayoutView",
            "align_content": null,
            "align_items": null,
            "align_self": null,
            "border": null,
            "bottom": null,
            "display": null,
            "flex": null,
            "flex_flow": null,
            "grid_area": null,
            "grid_auto_columns": null,
            "grid_auto_flow": null,
            "grid_auto_rows": null,
            "grid_column": null,
            "grid_gap": null,
            "grid_row": null,
            "grid_template_areas": null,
            "grid_template_columns": null,
            "grid_template_rows": null,
            "height": null,
            "justify_content": null,
            "justify_items": null,
            "left": null,
            "margin": null,
            "max_height": null,
            "max_width": null,
            "min_height": null,
            "min_width": null,
            "object_fit": null,
            "object_position": null,
            "order": null,
            "overflow": null,
            "overflow_x": null,
            "overflow_y": null,
            "padding": null,
            "right": null,
            "top": null,
            "visibility": null,
            "width": null
          }
        },
        "98ca9b11fffb4da188559ef63d107e73": {
          "model_module": "@jupyter-widgets/controls",
          "model_name": "DescriptionStyleModel",
          "model_module_version": "1.5.0",
          "state": {
            "_model_module": "@jupyter-widgets/controls",
            "_model_module_version": "1.5.0",
            "_model_name": "DescriptionStyleModel",
            "_view_count": null,
            "_view_module": "@jupyter-widgets/base",
            "_view_module_version": "1.2.0",
            "_view_name": "StyleView",
            "description_width": ""
          }
        },
        "5a875a72b39f489b96028ff4c2b767b7": {
          "model_module": "@jupyter-widgets/base",
          "model_name": "LayoutModel",
          "model_module_version": "1.2.0",
          "state": {
            "_model_module": "@jupyter-widgets/base",
            "_model_module_version": "1.2.0",
            "_model_name": "LayoutModel",
            "_view_count": null,
            "_view_module": "@jupyter-widgets/base",
            "_view_module_version": "1.2.0",
            "_view_name": "LayoutView",
            "align_content": null,
            "align_items": null,
            "align_self": null,
            "border": null,
            "bottom": null,
            "display": null,
            "flex": null,
            "flex_flow": null,
            "grid_area": null,
            "grid_auto_columns": null,
            "grid_auto_flow": null,
            "grid_auto_rows": null,
            "grid_column": null,
            "grid_gap": null,
            "grid_row": null,
            "grid_template_areas": null,
            "grid_template_columns": null,
            "grid_template_rows": null,
            "height": null,
            "justify_content": null,
            "justify_items": null,
            "left": null,
            "margin": null,
            "max_height": null,
            "max_width": null,
            "min_height": null,
            "min_width": null,
            "object_fit": null,
            "object_position": null,
            "order": null,
            "overflow": null,
            "overflow_x": null,
            "overflow_y": null,
            "padding": null,
            "right": null,
            "top": null,
            "visibility": null,
            "width": null
          }
        },
        "e1eef7ee761643368c909b6ddedd1c11": {
          "model_module": "@jupyter-widgets/controls",
          "model_name": "ProgressStyleModel",
          "model_module_version": "1.5.0",
          "state": {
            "_model_module": "@jupyter-widgets/controls",
            "_model_module_version": "1.5.0",
            "_model_name": "ProgressStyleModel",
            "_view_count": null,
            "_view_module": "@jupyter-widgets/base",
            "_view_module_version": "1.2.0",
            "_view_name": "StyleView",
            "bar_color": null,
            "description_width": ""
          }
        },
        "0ac619e95fe242c8813b1dcb72d44039": {
          "model_module": "@jupyter-widgets/base",
          "model_name": "LayoutModel",
          "model_module_version": "1.2.0",
          "state": {
            "_model_module": "@jupyter-widgets/base",
            "_model_module_version": "1.2.0",
            "_model_name": "LayoutModel",
            "_view_count": null,
            "_view_module": "@jupyter-widgets/base",
            "_view_module_version": "1.2.0",
            "_view_name": "LayoutView",
            "align_content": null,
            "align_items": null,
            "align_self": null,
            "border": null,
            "bottom": null,
            "display": null,
            "flex": null,
            "flex_flow": null,
            "grid_area": null,
            "grid_auto_columns": null,
            "grid_auto_flow": null,
            "grid_auto_rows": null,
            "grid_column": null,
            "grid_gap": null,
            "grid_row": null,
            "grid_template_areas": null,
            "grid_template_columns": null,
            "grid_template_rows": null,
            "height": null,
            "justify_content": null,
            "justify_items": null,
            "left": null,
            "margin": null,
            "max_height": null,
            "max_width": null,
            "min_height": null,
            "min_width": null,
            "object_fit": null,
            "object_position": null,
            "order": null,
            "overflow": null,
            "overflow_x": null,
            "overflow_y": null,
            "padding": null,
            "right": null,
            "top": null,
            "visibility": null,
            "width": null
          }
        },
        "548e31bd10674b36bd0cb4affed5f7ac": {
          "model_module": "@jupyter-widgets/controls",
          "model_name": "DescriptionStyleModel",
          "model_module_version": "1.5.0",
          "state": {
            "_model_module": "@jupyter-widgets/controls",
            "_model_module_version": "1.5.0",
            "_model_name": "DescriptionStyleModel",
            "_view_count": null,
            "_view_module": "@jupyter-widgets/base",
            "_view_module_version": "1.2.0",
            "_view_name": "StyleView",
            "description_width": ""
          }
        }
      }
    }
  },
  "cells": [
    {
      "cell_type": "code",
      "execution_count": 34,
      "metadata": {
        "id": "MwFymOdbsPzE"
      },
      "outputs": [],
      "source": [
        "import shutil\n",
        "import os\n",
        "from zipfile import ZipFile\n",
        "import pandas as pd\n",
        "from sklearn.preprocessing import LabelEncoder\n",
        "from sklearn.model_selection import train_test_split\n",
        "from tensorflow import keras\n",
        "from tensorflow.keras import layers\n",
        "# from diffusers import StableDiffusionPipeline\n",
        "# import torch\n",
        "import keras\n"
      ]
    },
    {
      "cell_type": "code",
      "source": [
        "# Get file from google drive\n",
        "destination = os.getcwd()\n",
        "zip_file_path = './Voitures.zip'\n",
        "source = 'drive/MyDrive/Shared/Voitures.zip'\n",
        "if not os.path.exists(zip_file_path):\n",
        "  shutil.copy2(source, destination)\n",
        "print(os.listdir())"
      ],
      "metadata": {
        "colab": {
          "base_uri": "https://localhost:8080/"
        },
        "id": "vm1Biq2ttVar",
        "outputId": "16e9fa69-e178-4dbf-8f56-08ca7b39bda8"
      },
      "execution_count": 27,
      "outputs": [
        {
          "output_type": "stream",
          "name": "stdout",
          "text": [
            "['.config', 'Voitures.zip', '.ipynb_checkpoints', 'drive', 'sample_data']\n"
          ]
        }
      ]
    },
    {
      "cell_type": "code",
      "source": [
        "# Unzip file\n",
        "\n",
        "with ZipFile(zip_file_path, 'r') as zObject:\n",
        "\n",
        "    # Extracting all the members of the zip\n",
        "    # into a specific location.\n",
        "    zObject.extractall(path=\".\")"
      ],
      "metadata": {
        "id": "aZ1GYV1Hs5g8"
      },
      "execution_count": 28,
      "outputs": []
    },
    {
      "cell_type": "code",
      "source": [
        "# Visualize CSV content\n",
        "file_path = \"./vehicles.csv\"\n",
        "df = pd.read_csv(file_path,  usecols=['price', 'year', 'manufacturer', 'model', 'condition','cylinders', 'size',\n",
        "                                     'type', 'paint_color', 'state', 'description'], engine='python')"
      ],
      "metadata": {
        "id": "QegOxcn5lEgp"
      },
      "execution_count": 29,
      "outputs": []
    },
    {
      "cell_type": "code",
      "source": [
        "# Supprimer les valeurs manquantes\n",
        "df.dropna(inplace=True)\n",
        "\n",
        "# Afficher un aperçu\n",
        "print(df.head())"
      ],
      "metadata": {
        "id": "wI2I8mZamVbC",
        "colab": {
          "base_uri": "https://localhost:8080/"
        },
        "outputId": "8516dc89-bd14-457f-b52a-63af3335bdfa"
      },
      "execution_count": 30,
      "outputs": [
        {
          "output_type": "stream",
          "name": "stdout",
          "text": [
            "    price    year manufacturer                 model  condition    cylinders  \\\n",
            "31  15000  2013.0         ford             f-150 xlt  excellent  6 cylinders   \n",
            "55  19900  2004.0         ford       f250 super duty       good  8 cylinders   \n",
            "59  14000  2012.0        honda               odyssey  excellent  6 cylinders   \n",
            "65  22500  2001.0         ford                  f450       good  8 cylinders   \n",
            "73  15000  2017.0        dodge  charger rt 4dr sedan  excellent  8 cylinders   \n",
            "\n",
            "         size      type paint_color  \\\n",
            "31  full-size     truck       black   \n",
            "55  full-size    pickup        blue   \n",
            "59  full-size  mini-van      silver   \n",
            "65  full-size     truck       white   \n",
            "73   mid-size     sedan        grey   \n",
            "\n",
            "                                          description state  \n",
            "31  2013 F-150 XLT V6 4 Door. Good condition. Leve...    al  \n",
            "55  Here I have a unmolested Ford F-250 6.0 power ...    al  \n",
            "59  Readily available. Excellent condition, clean ...    al  \n",
            "65  Ford Super Duty F450 , XL with King Ranch seat...    al  \n",
            "73        2017 dodge charger rt runs great $15,000.00    al  \n"
          ]
        }
      ]
    },
    {
      "cell_type": "code",
      "source": [
        "categorical_cols = ['manufacturer', 'model', 'condition', 'cylinders', 'size', 'type', 'paint_color', 'state']\n",
        "\n",
        "for col in categorical_cols:\n",
        "    le = LabelEncoder()\n",
        "    df[col] = le.fit_transform(df[col])"
      ],
      "metadata": {
        "id": "igPW2l_mINoF"
      },
      "execution_count": 31,
      "outputs": []
    },
    {
      "cell_type": "code",
      "source": [
        "X = df.drop(columns=['price', 'description'])  # Features\n",
        "y = df['price']  # Target\n",
        "\n",
        "X_train, X_test, y_train, y_test = train_test_split(X, y, test_size=0.2, random_state=42)"
      ],
      "metadata": {
        "id": "o_mRdnXkIRe2"
      },
      "execution_count": 32,
      "outputs": []
    },
    {
      "cell_type": "code",
      "source": [
        "\n",
        "model = keras.Sequential([\n",
        "    layers.Dense(128, activation='relu', input_shape=(X_train.shape[1],)),\n",
        "    layers.Dense(64, activation='relu'),\n",
        "    layers.Dense(32, activation='relu'),\n",
        "    layers.Dense(1)  # Sortie unique : le prix\n",
        "])\n",
        "\n",
        "model.compile(optimizer='adam', loss='mse', metrics=['mae'])\n",
        "model.fit(X_train, y_train, epochs=20, batch_size=64, validation_data=(X_test, y_test))"
      ],
      "metadata": {
        "id": "2jDNgOCiIb-L",
        "colab": {
          "base_uri": "https://localhost:8080/",
          "height": 965
        },
        "outputId": "6d47196f-f1f6-49a2-a9d3-d4eb0e9f5abf"
      },
      "execution_count": 33,
      "outputs": [
        {
          "output_type": "stream",
          "name": "stderr",
          "text": [
            "/usr/local/lib/python3.11/dist-packages/keras/src/layers/core/dense.py:87: UserWarning: Do not pass an `input_shape`/`input_dim` argument to a layer. When using Sequential models, prefer using an `Input(shape)` object as the first layer in the model instead.\n",
            "  super().__init__(activity_regularizer=activity_regularizer, **kwargs)\n"
          ]
        },
        {
          "output_type": "stream",
          "name": "stdout",
          "text": [
            "Epoch 1/20\n",
            "\u001b[1m1027/1027\u001b[0m \u001b[32m━━━━━━━━━━━━━━━━━━━━\u001b[0m\u001b[37m\u001b[0m \u001b[1m8s\u001b[0m 4ms/step - loss: 428890333904896.0000 - mae: 143892.1250 - val_loss: 171282816.0000 - val_mae: 9872.0654\n",
            "Epoch 2/20\n",
            "\u001b[1m1027/1027\u001b[0m \u001b[32m━━━━━━━━━━━━━━━━━━━━\u001b[0m\u001b[37m\u001b[0m \u001b[1m7s\u001b[0m 2ms/step - loss: 128969152135168.0000 - mae: 76766.3125 - val_loss: 714832640.0000 - val_mae: 23447.2207\n",
            "Epoch 3/20\n",
            "\u001b[1m1027/1027\u001b[0m \u001b[32m━━━━━━━━━━━━━━━━━━━━\u001b[0m\u001b[37m\u001b[0m \u001b[1m2s\u001b[0m 2ms/step - loss: 220150695460864.0000 - mae: 116103.6797 - val_loss: 1408378624.0000 - val_mae: 33604.4648\n",
            "Epoch 4/20\n",
            "\u001b[1m1027/1027\u001b[0m \u001b[32m━━━━━━━━━━━━━━━━━━━━\u001b[0m\u001b[37m\u001b[0m \u001b[1m2s\u001b[0m 2ms/step - loss: 137353632940032.0000 - mae: 76124.0781 - val_loss: 2813261056.0000 - val_mae: 48230.3477\n",
            "Epoch 5/20\n",
            "\u001b[1m1027/1027\u001b[0m \u001b[32m━━━━━━━━━━━━━━━━━━━━\u001b[0m\u001b[37m\u001b[0m \u001b[1m3s\u001b[0m 2ms/step - loss: 104739312238592.0000 - mae: 112759.5625 - val_loss: 5289832960.0000 - val_mae: 66549.5703\n",
            "Epoch 6/20\n",
            "\u001b[1m1027/1027\u001b[0m \u001b[32m━━━━━━━━━━━━━━━━━━━━\u001b[0m\u001b[37m\u001b[0m \u001b[1m6s\u001b[0m 3ms/step - loss: 185694202888192.0000 - mae: 115319.0625 - val_loss: 1986925440.0000 - val_mae: 40191.5430\n",
            "Epoch 7/20\n",
            "\u001b[1m1027/1027\u001b[0m \u001b[32m━━━━━━━━━━━━━━━━━━━━\u001b[0m\u001b[37m\u001b[0m \u001b[1m4s\u001b[0m 2ms/step - loss: 263036178792448.0000 - mae: 139878.4062 - val_loss: 1039463872.0000 - val_mae: 27650.9668\n",
            "Epoch 8/20\n",
            "\u001b[1m1027/1027\u001b[0m \u001b[32m━━━━━━━━━━━━━━━━━━━━\u001b[0m\u001b[37m\u001b[0m \u001b[1m2s\u001b[0m 2ms/step - loss: 585420349898752.0000 - mae: 219888.7344 - val_loss: 3014840064.0000 - val_mae: 48464.9961\n",
            "Epoch 9/20\n",
            "\u001b[1m1027/1027\u001b[0m \u001b[32m━━━━━━━━━━━━━━━━━━━━\u001b[0m\u001b[37m\u001b[0m \u001b[1m3s\u001b[0m 3ms/step - loss: 760490061987840.0000 - mae: 306554.4062 - val_loss: 2725768192.0000 - val_mae: 45741.3516\n",
            "Epoch 10/20\n",
            "\u001b[1m1027/1027\u001b[0m \u001b[32m━━━━━━━━━━━━━━━━━━━━\u001b[0m\u001b[37m\u001b[0m \u001b[1m4s\u001b[0m 2ms/step - loss: 16179755220992.0000 - mae: 53481.3828 - val_loss: 1889901184.0000 - val_mae: 37827.5742\n",
            "Epoch 11/20\n",
            "\u001b[1m1027/1027\u001b[0m \u001b[32m━━━━━━━━━━━━━━━━━━━━\u001b[0m\u001b[37m\u001b[0m \u001b[1m3s\u001b[0m 2ms/step - loss: 120378303184896.0000 - mae: 123479.5859 - val_loss: 8163121664.0000 - val_mae: 80594.8203\n",
            "Epoch 12/20\n",
            "\u001b[1m1027/1027\u001b[0m \u001b[32m━━━━━━━━━━━━━━━━━━━━\u001b[0m\u001b[37m\u001b[0m \u001b[1m3s\u001b[0m 2ms/step - loss: 989587107217408.0000 - mae: 369772.3125 - val_loss: 180469856.0000 - val_mae: 10679.4131\n",
            "Epoch 13/20\n",
            "\u001b[1m1027/1027\u001b[0m \u001b[32m━━━━━━━━━━━━━━━━━━━━\u001b[0m\u001b[37m\u001b[0m \u001b[1m3s\u001b[0m 3ms/step - loss: 9184023150592.0000 - mae: 20860.3281 - val_loss: 25533323264.0000 - val_mae: 146905.7500\n",
            "Epoch 14/20\n",
            "\u001b[1m1027/1027\u001b[0m \u001b[32m━━━━━━━━━━━━━━━━━━━━\u001b[0m\u001b[37m\u001b[0m \u001b[1m3s\u001b[0m 3ms/step - loss: 96163495673856.0000 - mae: 145182.9688 - val_loss: 9309192192.0000 - val_mae: 87334.5625\n",
            "Epoch 15/20\n",
            "\u001b[1m1027/1027\u001b[0m \u001b[32m━━━━━━━━━━━━━━━━━━━━\u001b[0m\u001b[37m\u001b[0m \u001b[1m4s\u001b[0m 2ms/step - loss: 294859067883520.0000 - mae: 151907.2969 - val_loss: 2467348992.0000 - val_mae: 42115.7500\n",
            "Epoch 16/20\n",
            "\u001b[1m1027/1027\u001b[0m \u001b[32m━━━━━━━━━━━━━━━━━━━━\u001b[0m\u001b[37m\u001b[0m \u001b[1m3s\u001b[0m 2ms/step - loss: 18622875435008.0000 - mae: 54534.2305 - val_loss: 16247945216.0000 - val_mae: 113768.7969\n",
            "Epoch 17/20\n",
            "\u001b[1m1027/1027\u001b[0m \u001b[32m━━━━━━━━━━━━━━━━━━━━\u001b[0m\u001b[37m\u001b[0m \u001b[1m3s\u001b[0m 2ms/step - loss: 86819232284672.0000 - mae: 122549.1406 - val_loss: 11622265856.0000 - val_mae: 94913.6094\n",
            "Epoch 18/20\n",
            "\u001b[1m1027/1027\u001b[0m \u001b[32m━━━━━━━━━━━━━━━━━━━━\u001b[0m\u001b[37m\u001b[0m \u001b[1m3s\u001b[0m 3ms/step - loss: 297533859430400.0000 - mae: 204375.9219 - val_loss: 188981632.0000 - val_mae: 11228.4414\n",
            "Epoch 19/20\n",
            "\u001b[1m1027/1027\u001b[0m \u001b[32m━━━━━━━━━━━━━━━━━━━━\u001b[0m\u001b[37m\u001b[0m \u001b[1m4s\u001b[0m 2ms/step - loss: 54262897836032.0000 - mae: 52171.2969 - val_loss: 12951239680.0000 - val_mae: 102828.8906\n",
            "Epoch 20/20\n",
            "\u001b[1m1027/1027\u001b[0m \u001b[32m━━━━━━━━━━━━━━━━━━━━\u001b[0m\u001b[37m\u001b[0m \u001b[1m2s\u001b[0m 2ms/step - loss: 247494285983744.0000 - mae: 163169.8906 - val_loss: 6097459200.0000 - val_mae: 67926.3594\n"
          ]
        },
        {
          "output_type": "error",
          "ename": "AttributeError",
          "evalue": "module 'tensorflow.keras' has no attribute 'saving'",
          "traceback": [
            "\u001b[0;31m---------------------------------------------------------------------------\u001b[0m",
            "\u001b[0;31mAttributeError\u001b[0m                            Traceback (most recent call last)",
            "\u001b[0;32m<ipython-input-33-89c8a1e18b5a>\u001b[0m in \u001b[0;36m<cell line: 0>\u001b[0;34m()\u001b[0m\n\u001b[1;32m     10\u001b[0m \u001b[0;34m\u001b[0m\u001b[0m\n\u001b[1;32m     11\u001b[0m \u001b[0;31m# Sauvegarde du modèle\u001b[0m\u001b[0;34m\u001b[0m\u001b[0;34m\u001b[0m\u001b[0m\n\u001b[0;32m---> 12\u001b[0;31m \u001b[0mkeras\u001b[0m\u001b[0;34m.\u001b[0m\u001b[0msaving\u001b[0m\u001b[0;34m.\u001b[0m\u001b[0msave_model\u001b[0m\u001b[0;34m(\u001b[0m\u001b[0mmodel\u001b[0m\u001b[0;34m,\u001b[0m \u001b[0;34m\"v2.keras\"\u001b[0m\u001b[0;34m)\u001b[0m\u001b[0;34m\u001b[0m\u001b[0;34m\u001b[0m\u001b[0m\n\u001b[0m",
            "\u001b[0;31mAttributeError\u001b[0m: module 'tensorflow.keras' has no attribute 'saving'"
          ]
        }
      ]
    },
    {
      "cell_type": "code",
      "source": [
        "# Sauvegarde du modèle\n",
        "model_path=\"v1.keras\"\n",
        "keras.saving.save_model(model, model_path)"
      ],
      "metadata": {
        "id": "mwmwd-cvOmLz"
      },
      "execution_count": 36,
      "outputs": []
    },
    {
      "cell_type": "code",
      "source": [
        "# Charger le modèle de diffusion (code demo)\n",
        "pipe = StableDiffusionPipeline.from_pretrained(\"CompVis/stable-diffusion-v1-4\")\n",
        "pipe.to(\"cuda\")  # Utiliser uniquement le GPU\n",
        "\n",
        "def generate_car_image(description, predicted_price):\n",
        "    prompt = f\"Voiture {description}, estimée à {int(predicted_price)}€, design moderne et détaillé\"\n",
        "    image = pipe(prompt).images[0]\n",
        "    image.show()\n",
        "    image.save(\"generated_car.png\")\n",
        "\n",
        "# Exemple : Prédire le prix et générer une image\n",
        "predicted_price = model.predict(X_test.iloc[0:1])[0][0]\n",
        "description = df.iloc[0]['description']\n",
        "generate_car_image(\"Mercedes benz du ciel\", 150)"
      ],
      "metadata": {
        "id": "CmdJzcGlImpw",
        "colab": {
          "base_uri": "https://localhost:8080/",
          "height": 105,
          "referenced_widgets": [
            "49a56f34ee2b464ab50d0d0f703c7eef",
            "5444c20fc8d6422b8f1db9729863fb3d",
            "aa967de765084bd2bca157ee56fb4cfe",
            "8d20fcba4a874951a2758edaf3a87136",
            "1adc24d1cc7448b3b612122f1e93522f",
            "52eea0f0c9db45758151ef5a7e37d8d1",
            "98ca9b11fffb4da188559ef63d107e73",
            "5a875a72b39f489b96028ff4c2b767b7",
            "e1eef7ee761643368c909b6ddedd1c11",
            "0ac619e95fe242c8813b1dcb72d44039",
            "548e31bd10674b36bd0cb4affed5f7ac"
          ]
        },
        "outputId": "24ee612a-3689-4f26-d8ea-325ee609480d"
      },
      "execution_count": null,
      "outputs": [
        {
          "output_type": "stream",
          "name": "stderr",
          "text": [
            "Couldn't connect to the Hub: 504 Server Error: Gateway Time-out for url: https://huggingface.co/api/models/CompVis/stable-diffusion-v1-4.\n",
            "Will try to load from local cache.\n"
          ]
        },
        {
          "output_type": "display_data",
          "data": {
            "text/plain": [
              "Loading pipeline components...:   0%|          | 0/7 [00:00<?, ?it/s]"
            ],
            "application/vnd.jupyter.widget-view+json": {
              "version_major": 2,
              "version_minor": 0,
              "model_id": "49a56f34ee2b464ab50d0d0f703c7eef"
            }
          },
          "metadata": {}
        }
      ]
    },
    {
      "cell_type": "code",
      "source": [],
      "metadata": {
        "id": "ib18QdqZIrUF"
      },
      "execution_count": null,
      "outputs": []
    }
  ]
}