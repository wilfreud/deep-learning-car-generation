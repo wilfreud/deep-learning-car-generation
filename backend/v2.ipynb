{
  "cells": [
    {
      "cell_type": "markdown",
      "metadata": {
        "id": "XZ8ndkfLKSCb"
      },
      "source": [
        "# 📌 Projet Deep Learning : Prédiction du prix d'un véhicule & Génération d'images\n",
        "Dans ce notebook, nous allons :\n",
        "- Préparer et nettoyer les données.\n",
        "- Entraîner un modèle de deep learning amélioré.\n",
        "- Exporter le modèle pour une utilisation future.\n",
        "- Générer des images de voitures avec Stable Diffusion."
      ]
    },
    {
      "cell_type": "code",
      "execution_count": 2,
      "metadata": {
        "colab": {
          "base_uri": "https://localhost:8080/",
          "height": 399
        },
        "id": "Rbs_O4fMKSCg",
        "outputId": "c0a33b9d-d858-4f0e-a48e-9b9184c5db5d"
      },
      "outputs": [
        {
          "output_type": "error",
          "ename": "ModuleNotFoundError",
          "evalue": "No module named 'diffusers'",
          "traceback": [
            "\u001b[0;31m---------------------------------------------------------------------------\u001b[0m",
            "\u001b[0;31mModuleNotFoundError\u001b[0m                       Traceback (most recent call last)",
            "\u001b[0;32m<ipython-input-2-3b96d0bd823f>\u001b[0m in \u001b[0;36m<cell line: 0>\u001b[0;34m()\u001b[0m\n\u001b[1;32m      8\u001b[0m \u001b[0;32mfrom\u001b[0m \u001b[0msklearn\u001b[0m\u001b[0;34m.\u001b[0m\u001b[0mmodel_selection\u001b[0m \u001b[0;32mimport\u001b[0m \u001b[0mtrain_test_split\u001b[0m\u001b[0;34m\u001b[0m\u001b[0;34m\u001b[0m\u001b[0m\n\u001b[1;32m      9\u001b[0m \u001b[0;32mfrom\u001b[0m \u001b[0mtensorflow\u001b[0m\u001b[0;34m.\u001b[0m\u001b[0mkeras\u001b[0m \u001b[0;32mimport\u001b[0m \u001b[0mlayers\u001b[0m\u001b[0;34m,\u001b[0m \u001b[0mmodels\u001b[0m\u001b[0;34m\u001b[0m\u001b[0;34m\u001b[0m\u001b[0m\n\u001b[0;32m---> 10\u001b[0;31m \u001b[0;32mfrom\u001b[0m \u001b[0mdiffusers\u001b[0m \u001b[0;32mimport\u001b[0m \u001b[0mStableDiffusionPipeline\u001b[0m\u001b[0;34m\u001b[0m\u001b[0;34m\u001b[0m\u001b[0m\n\u001b[0m\u001b[1;32m     11\u001b[0m \u001b[0;32mimport\u001b[0m \u001b[0mshutil\u001b[0m\u001b[0;34m\u001b[0m\u001b[0;34m\u001b[0m\u001b[0m\n\u001b[1;32m     12\u001b[0m \u001b[0;32mfrom\u001b[0m \u001b[0mzipfile\u001b[0m \u001b[0;32mimport\u001b[0m \u001b[0mZipFile\u001b[0m\u001b[0;34m\u001b[0m\u001b[0;34m\u001b[0m\u001b[0m\n",
            "\u001b[0;31mModuleNotFoundError\u001b[0m: No module named 'diffusers'",
            "",
            "\u001b[0;31m---------------------------------------------------------------------------\u001b[0;32m\nNOTE: If your import is failing due to a missing package, you can\nmanually install dependencies using either !pip or !apt.\n\nTo view examples of installing some common dependencies, click the\n\"Open Examples\" button below.\n\u001b[0;31m---------------------------------------------------------------------------\u001b[0m\n"
          ],
          "errorDetails": {
            "actions": [
              {
                "action": "open_url",
                "actionText": "Open Examples",
                "url": "/notebooks/snippets/importing_libraries.ipynb"
              }
            ]
          }
        }
      ],
      "source": [
        "import os\n",
        "import pandas as pd\n",
        "import numpy as np\n",
        "import tensorflow as tf\n",
        "import matplotlib.pyplot as plt\n",
        "import seaborn as sns\n",
        "from sklearn.preprocessing import StandardScaler, OneHotEncoder\n",
        "from sklearn.model_selection import train_test_split\n",
        "from tensorflow.keras import layers, models\n",
        "from diffusers import StableDiffusionPipeline\n",
        "import shutil\n",
        "from zipfile import ZipFile\n",
        "\n",
        "print('Librairies chargées ✅')"
      ]
    },
    {
      "cell_type": "markdown",
      "metadata": {
        "id": "m8x5d-rlKbqV"
      },
      "source": [
        "Chargement du dataset depuis google drive"
      ]
    },
    {
      "cell_type": "code",
      "execution_count": null,
      "metadata": {
        "colab": {
          "base_uri": "https://localhost:8080/"
        },
        "id": "Y92_orpQKjwE",
        "outputId": "0d7630dc-5077-4303-9fa3-fbd46cebf1d8"
      },
      "outputs": [
        {
          "name": "stdout",
          "output_type": "stream",
          "text": [
            "Mounted at /content/drive\n"
          ]
        }
      ],
      "source": [
        "from google.colab import drive\n",
        "drive.mount('/content/drive')"
      ]
    },
    {
      "cell_type": "code",
      "execution_count": null,
      "metadata": {
        "id": "vk6Da3lZRo5i"
      },
      "outputs": [],
      "source": [
        "# Get file from google drive\n",
        "file_path = './vehicles.csv'\n",
        "destination = os.getcwd()\n",
        "zip_file_path = './Voitures.zip'\n",
        "source = 'drive/MyDrive/Shared/Voitures.zip'\n",
        "if not os.path.exists(zip_file_path):\n",
        "  shutil.copy2(source, destination)\n",
        "# Unzip file\n",
        "\n",
        "if not os.path.exists(file_path):\n",
        "  with ZipFile(zip_file_path, 'r') as zObject:\n",
        "\n",
        "      # Extracting all the members of the zip\n",
        "      # into a specific location.\n",
        "      zObject.extractall(path=\".\")"
      ]
    },
    {
      "cell_type": "markdown",
      "metadata": {
        "id": "754kIRhzKSCj"
      },
      "source": [
        "## 1️⃣ Chargement des données & Prétraitement"
      ]
    },
    {
      "cell_type": "code",
      "execution_count": null,
      "metadata": {
        "colab": {
          "base_uri": "https://localhost:8080/",
          "height": 521
        },
        "id": "AWdCl88cKSCk",
        "outputId": "9e316cae-d4cd-4042-e55b-d44770b3094d"
      },
      "outputs": [
        {
          "data": {
            "application/vnd.google.colaboratory.intrinsic+json": {
              "summary": "{\n  \"name\": \"df\",\n  \"rows\": 82105,\n  \"fields\": [\n    {\n      \"column\": \"price\",\n      \"properties\": {\n        \"dtype\": \"number\",\n        \"std\": 13627642,\n        \"min\": 0,\n        \"max\": 3736928711,\n        \"num_unique_values\": 4318,\n        \"samples\": [\n          35995,\n          5222,\n          12490\n        ],\n        \"semantic_type\": \"\",\n        \"description\": \"\"\n      }\n    },\n    {\n      \"column\": \"year\",\n      \"properties\": {\n        \"dtype\": \"number\",\n        \"std\": 9.970644674983811,\n        \"min\": 1900.0,\n        \"max\": 2022.0,\n        \"num_unique_values\": 102,\n        \"samples\": [\n          1979.0,\n          1933.0,\n          1930.0\n        ],\n        \"semantic_type\": \"\",\n        \"description\": \"\"\n      }\n    },\n    {\n      \"column\": \"manufacturer\",\n      \"properties\": {\n        \"dtype\": \"category\",\n        \"num_unique_values\": 41,\n        \"samples\": [\n          \"lincoln\",\n          \"nissan\",\n          \"bmw\"\n        ],\n        \"semantic_type\": \"\",\n        \"description\": \"\"\n      }\n    },\n    {\n      \"column\": \"model\",\n      \"properties\": {\n        \"dtype\": \"category\",\n        \"num_unique_values\": 9757,\n        \"samples\": [\n          \"sable premier\",\n          \"jetta 1.4t - ac blows ice cold - gas saver -\",\n          \"optima turbo lx\"\n        ],\n        \"semantic_type\": \"\",\n        \"description\": \"\"\n      }\n    },\n    {\n      \"column\": \"condition\",\n      \"properties\": {\n        \"dtype\": \"category\",\n        \"num_unique_values\": 6,\n        \"samples\": [\n          \"excellent\",\n          \"good\",\n          \"salvage\"\n        ],\n        \"semantic_type\": \"\",\n        \"description\": \"\"\n      }\n    },\n    {\n      \"column\": \"cylinders\",\n      \"properties\": {\n        \"dtype\": \"category\",\n        \"num_unique_values\": 8,\n        \"samples\": [\n          \"8 cylinders\",\n          \"3 cylinders\",\n          \"6 cylinders\"\n        ],\n        \"semantic_type\": \"\",\n        \"description\": \"\"\n      }\n    },\n    {\n      \"column\": \"size\",\n      \"properties\": {\n        \"dtype\": \"category\",\n        \"num_unique_values\": 4,\n        \"samples\": [\n          \"mid-size\",\n          \"sub-compact\",\n          \"full-size\"\n        ],\n        \"semantic_type\": \"\",\n        \"description\": \"\"\n      }\n    },\n    {\n      \"column\": \"type\",\n      \"properties\": {\n        \"dtype\": \"category\",\n        \"num_unique_values\": 13,\n        \"samples\": [\n          \"other\",\n          \"coupe\",\n          \"truck\"\n        ],\n        \"semantic_type\": \"\",\n        \"description\": \"\"\n      }\n    },\n    {\n      \"column\": \"paint_color\",\n      \"properties\": {\n        \"dtype\": \"category\",\n        \"num_unique_values\": 12,\n        \"samples\": [\n          \"purple\",\n          \"custom\",\n          \"black\"\n        ],\n        \"semantic_type\": \"\",\n        \"description\": \"\"\n      }\n    },\n    {\n      \"column\": \"description\",\n      \"properties\": {\n        \"dtype\": \"string\",\n        \"num_unique_values\": 69134,\n        \"samples\": [\n          \"Great condition runs great no issues no dash lights. All wheel drive coupe. Please let me know if you have any questions.\",\n          \"2007 Dodge Dakota extended cab 4.7 v8 automatic loaded trades welcome.this is a must see truck not many out there like this one .\",\n          \"CREDIT AMNESTY!\\u00a0 SE HABLA ESPANOL !!OPEN SUNDAY!! PAYMENTS AS LOW AS $99 A MONTH!!\\u00a0\\u00a0ASK ABOUT 90 DAYS TILL FIRST PAYMENT!ALL TRADES ACCEPTED!!www(.)WORLDAUTOSINC(.)com - CALL MARK (407) 770-7123WORLDAUTO786 @ yahoo(.)comCALL US DIRECTLY AT (407) 412-6944\\u00a06231 SOUTH ORANGE BLOSSOM TRAIL, ORLANDO, FL 32809\\u00a05 MINUTES NORTH OF THE FLORIDA MALL!!! DRIVE IT HOME TODAY! CALL OR TEXT TO MAKE AN APPOINTMENT AND CONFIRM AVAILABILITY! CALL OR TEXT MARK (407) 770-7123, SI HABLA ESPANOL (407) 770-7123 ASK FOR MARK OR VISIT WWW(.)WORLDAUTOSINC(.)COM Stop by Our Dealership Today To See This One In Person!! Our Friendly Staff Can Assist You With Any Questions or Concerns You May Have On Any Of Our Quality Vehicles.  We have over 35 Lenders available to help with your needs! Over 25 Sub-Prime banks to help with our Second Chance customers! Prime Lenders available to ALL! Credit Unions also available to our Top Tier customers! Our Experienced Staff are Ready to Assist You With All Your FINANCING Needs.  Down Payments Start As Low As $0 (Ask about our ZERO $ DOWN Program)  Ask about the $500 CASH BACK program with ZERO DOWN. CALL NOW for more information  We Pay TOP DOLLAR for your TRADE-IN and accept all makes and models  First payment in 45 DAYS or UP TO 90 DAYS!! We are the BANK WE ALSO HAVE A GREAT BUY HERE PAY HERE PROGRAM FOR EQUITY BUYERS!! FREE Transportation to anywhere in the United States   -WE FINANCE EVERYONE- GOOD/BAD/NO CREDIT- NO SOCIAL - NO TAX ID - NO EIN\\u00a0- NO JOB\\u00a0- WE ACCEPT ALL FORMS OF PAYMENTS & CURRENCIES\\u00a0-\\u00a0NO PROBLEM!!!-INTERNATIONAL BUYERS PROGRAM\\u00a0- NO PASSPORT REQUIRED\\u00a0- ANY ID WORKS\\u00a0- OUT OF STATE CUSTOMER PROGRAM\\u00a0- INTEREST FREE FINANCING*\\u00a0-\\u00a0SKIP THE LINE, APPLY ONLINE!-WE SHIP WORLD-WIDE DIRECTLY TO YOUR DRIVEWAY OR DOORSTEP!-WE HAVE A PROGRAM FOR EVERY CREDIT SITUATION- APPROVED! -COMPETITIVE RATES- LOW DOWN PAYMENTS- LOW MONTHLY PAYMENTS! -SECOND-CHANCE FINANCING- FOR THE CREDIT CHALLENGED! -FIRST TIME BUYER'S PROGRAM- FOR PEOPLE WITH NO CREDIT! -HAND PICKED, LOW MILEAGE, CLEAN VEHICLES- BEST PRICES IN TOWN! -OPEN OR DISCHARGED BANKRUPTCIES APPROVED!! -EXTENDED WARRANTIES FINANCEABLE! TRADE-INS WELCOME! WE BUY USED CARS!  2015 Audi A7 4dr HB quattro 3.0 Prestige - $31,999  2015 - Audi - A7 - 4dr HB quattro 3.0 Prestige with 62,627 miles.  Stock #: 014532 VIN: WAU2GAFC7FN014532   It has a   Transmission with Gray Exterior.     ENGANCHE TAN BAJOS COMO $0 (PREGUNTAR DEL PROGRAMA DE ZERO DE ENGANCHE).  Nosotros Pagamos EL DOLLAR MAS ALTO Por Su INTERCAMBIO DE VEHICULO y aceptamos todas las marcas y modelos.    *FINACIAMOS A TODOS-BUENO/MALO/NO CREDITO-NO HAY PROBLEMA  *TENEMOS UN PROGRAMA PARA TODA CLASE DE SITUCION DE CREDITO-APROVADO!  *TARIFAS COMPETIVAS-PAGOS INICIALES BAJOS- PAGOS MENSUALES BAJOS * SEGUNDA OPORTUNIDAD DE FINANCIACION- PROBLEMAS DE CREDITO!  *PROGRAM PARA PRIMER COMPRADOR-PARA PERSONA SIN CREDITO!  *ESCOGIDO PERSONAL, BAJO EN KILOMETRAJE, VEHICULOS LIMPIO- LOS MEJORES PRICIOS EN EL PUEBLO!  *TAMBIEN TENEMOS FINANCIAMIENTO DISPONIBLE PARA PERSONAS CON BANCA ROTA! *GARANTIAS EXTENDIDAS DISPONIBLES-INTERCAMBIO DE VEHICULO BIENVENIDO! COMPRAMOS VEHICULOS USADOS!  *HABLAME LLAMAME AHORA! (407) 770-7123 PREGUNTA POR JON!!!!                                       All offers, deals are based upon approved credit, NOT EVERYONE QUALIFIES. WEEKLY PAYMENTS ARE BASED UPON\\u00a0 4.9 APR at 84 month term. All Internet special prices listed are subject to change. Down payments may vary based upon your income and credit score. Please call to make appointment and confirm availability!                         BatchID: 7XJ6VIPCLEID: 17421169\"\n        ],\n        \"semantic_type\": \"\",\n        \"description\": \"\"\n      }\n    },\n    {\n      \"column\": \"state\",\n      \"properties\": {\n        \"dtype\": \"category\",\n        \"num_unique_values\": 51,\n        \"samples\": [\n          \"tx\",\n          \"sc\",\n          \"va\"\n        ],\n        \"semantic_type\": \"\",\n        \"description\": \"\"\n      }\n    }\n  ]\n}",
              "type": "dataframe",
              "variable_name": "df"
            },
            "text/html": [
              "\n",
              "  <div id=\"df-1eeb2ac5-82a8-4f03-a73c-517d48589c4f\" class=\"colab-df-container\">\n",
              "    <div>\n",
              "<style scoped>\n",
              "    .dataframe tbody tr th:only-of-type {\n",
              "        vertical-align: middle;\n",
              "    }\n",
              "\n",
              "    .dataframe tbody tr th {\n",
              "        vertical-align: top;\n",
              "    }\n",
              "\n",
              "    .dataframe thead th {\n",
              "        text-align: right;\n",
              "    }\n",
              "</style>\n",
              "<table border=\"1\" class=\"dataframe\">\n",
              "  <thead>\n",
              "    <tr style=\"text-align: right;\">\n",
              "      <th></th>\n",
              "      <th>price</th>\n",
              "      <th>year</th>\n",
              "      <th>manufacturer</th>\n",
              "      <th>model</th>\n",
              "      <th>condition</th>\n",
              "      <th>cylinders</th>\n",
              "      <th>size</th>\n",
              "      <th>type</th>\n",
              "      <th>paint_color</th>\n",
              "      <th>description</th>\n",
              "      <th>state</th>\n",
              "    </tr>\n",
              "  </thead>\n",
              "  <tbody>\n",
              "    <tr>\n",
              "      <th>31</th>\n",
              "      <td>15000</td>\n",
              "      <td>2013.0</td>\n",
              "      <td>ford</td>\n",
              "      <td>f-150 xlt</td>\n",
              "      <td>excellent</td>\n",
              "      <td>6 cylinders</td>\n",
              "      <td>full-size</td>\n",
              "      <td>truck</td>\n",
              "      <td>black</td>\n",
              "      <td>2013 F-150 XLT V6 4 Door. Good condition. Leve...</td>\n",
              "      <td>al</td>\n",
              "    </tr>\n",
              "    <tr>\n",
              "      <th>55</th>\n",
              "      <td>19900</td>\n",
              "      <td>2004.0</td>\n",
              "      <td>ford</td>\n",
              "      <td>f250 super duty</td>\n",
              "      <td>good</td>\n",
              "      <td>8 cylinders</td>\n",
              "      <td>full-size</td>\n",
              "      <td>pickup</td>\n",
              "      <td>blue</td>\n",
              "      <td>Here I have a unmolested Ford F-250 6.0 power ...</td>\n",
              "      <td>al</td>\n",
              "    </tr>\n",
              "    <tr>\n",
              "      <th>59</th>\n",
              "      <td>14000</td>\n",
              "      <td>2012.0</td>\n",
              "      <td>honda</td>\n",
              "      <td>odyssey</td>\n",
              "      <td>excellent</td>\n",
              "      <td>6 cylinders</td>\n",
              "      <td>full-size</td>\n",
              "      <td>mini-van</td>\n",
              "      <td>silver</td>\n",
              "      <td>Readily available. Excellent condition, clean ...</td>\n",
              "      <td>al</td>\n",
              "    </tr>\n",
              "    <tr>\n",
              "      <th>65</th>\n",
              "      <td>22500</td>\n",
              "      <td>2001.0</td>\n",
              "      <td>ford</td>\n",
              "      <td>f450</td>\n",
              "      <td>good</td>\n",
              "      <td>8 cylinders</td>\n",
              "      <td>full-size</td>\n",
              "      <td>truck</td>\n",
              "      <td>white</td>\n",
              "      <td>Ford Super Duty F450 , XL with King Ranch seat...</td>\n",
              "      <td>al</td>\n",
              "    </tr>\n",
              "    <tr>\n",
              "      <th>73</th>\n",
              "      <td>15000</td>\n",
              "      <td>2017.0</td>\n",
              "      <td>dodge</td>\n",
              "      <td>charger rt 4dr sedan</td>\n",
              "      <td>excellent</td>\n",
              "      <td>8 cylinders</td>\n",
              "      <td>mid-size</td>\n",
              "      <td>sedan</td>\n",
              "      <td>grey</td>\n",
              "      <td>2017 dodge charger rt runs great $15,000.00</td>\n",
              "      <td>al</td>\n",
              "    </tr>\n",
              "  </tbody>\n",
              "</table>\n",
              "</div>\n",
              "    <div class=\"colab-df-buttons\">\n",
              "\n",
              "  <div class=\"colab-df-container\">\n",
              "    <button class=\"colab-df-convert\" onclick=\"convertToInteractive('df-1eeb2ac5-82a8-4f03-a73c-517d48589c4f')\"\n",
              "            title=\"Convert this dataframe to an interactive table.\"\n",
              "            style=\"display:none;\">\n",
              "\n",
              "  <svg xmlns=\"http://www.w3.org/2000/svg\" height=\"24px\" viewBox=\"0 -960 960 960\">\n",
              "    <path d=\"M120-120v-720h720v720H120Zm60-500h600v-160H180v160Zm220 220h160v-160H400v160Zm0 220h160v-160H400v160ZM180-400h160v-160H180v160Zm440 0h160v-160H620v160ZM180-180h160v-160H180v160Zm440 0h160v-160H620v160Z\"/>\n",
              "  </svg>\n",
              "    </button>\n",
              "\n",
              "  <style>\n",
              "    .colab-df-container {\n",
              "      display:flex;\n",
              "      gap: 12px;\n",
              "    }\n",
              "\n",
              "    .colab-df-convert {\n",
              "      background-color: #E8F0FE;\n",
              "      border: none;\n",
              "      border-radius: 50%;\n",
              "      cursor: pointer;\n",
              "      display: none;\n",
              "      fill: #1967D2;\n",
              "      height: 32px;\n",
              "      padding: 0 0 0 0;\n",
              "      width: 32px;\n",
              "    }\n",
              "\n",
              "    .colab-df-convert:hover {\n",
              "      background-color: #E2EBFA;\n",
              "      box-shadow: 0px 1px 2px rgba(60, 64, 67, 0.3), 0px 1px 3px 1px rgba(60, 64, 67, 0.15);\n",
              "      fill: #174EA6;\n",
              "    }\n",
              "\n",
              "    .colab-df-buttons div {\n",
              "      margin-bottom: 4px;\n",
              "    }\n",
              "\n",
              "    [theme=dark] .colab-df-convert {\n",
              "      background-color: #3B4455;\n",
              "      fill: #D2E3FC;\n",
              "    }\n",
              "\n",
              "    [theme=dark] .colab-df-convert:hover {\n",
              "      background-color: #434B5C;\n",
              "      box-shadow: 0px 1px 3px 1px rgba(0, 0, 0, 0.15);\n",
              "      filter: drop-shadow(0px 1px 2px rgba(0, 0, 0, 0.3));\n",
              "      fill: #FFFFFF;\n",
              "    }\n",
              "  </style>\n",
              "\n",
              "    <script>\n",
              "      const buttonEl =\n",
              "        document.querySelector('#df-1eeb2ac5-82a8-4f03-a73c-517d48589c4f button.colab-df-convert');\n",
              "      buttonEl.style.display =\n",
              "        google.colab.kernel.accessAllowed ? 'block' : 'none';\n",
              "\n",
              "      async function convertToInteractive(key) {\n",
              "        const element = document.querySelector('#df-1eeb2ac5-82a8-4f03-a73c-517d48589c4f');\n",
              "        const dataTable =\n",
              "          await google.colab.kernel.invokeFunction('convertToInteractive',\n",
              "                                                    [key], {});\n",
              "        if (!dataTable) return;\n",
              "\n",
              "        const docLinkHtml = 'Like what you see? Visit the ' +\n",
              "          '<a target=\"_blank\" href=https://colab.research.google.com/notebooks/data_table.ipynb>data table notebook</a>'\n",
              "          + ' to learn more about interactive tables.';\n",
              "        element.innerHTML = '';\n",
              "        dataTable['output_type'] = 'display_data';\n",
              "        await google.colab.output.renderOutput(dataTable, element);\n",
              "        const docLink = document.createElement('div');\n",
              "        docLink.innerHTML = docLinkHtml;\n",
              "        element.appendChild(docLink);\n",
              "      }\n",
              "    </script>\n",
              "  </div>\n",
              "\n",
              "\n",
              "<div id=\"df-32621689-0d15-4a8b-b813-d25fcedc881a\">\n",
              "  <button class=\"colab-df-quickchart\" onclick=\"quickchart('df-32621689-0d15-4a8b-b813-d25fcedc881a')\"\n",
              "            title=\"Suggest charts\"\n",
              "            style=\"display:none;\">\n",
              "\n",
              "<svg xmlns=\"http://www.w3.org/2000/svg\" height=\"24px\"viewBox=\"0 0 24 24\"\n",
              "     width=\"24px\">\n",
              "    <g>\n",
              "        <path d=\"M19 3H5c-1.1 0-2 .9-2 2v14c0 1.1.9 2 2 2h14c1.1 0 2-.9 2-2V5c0-1.1-.9-2-2-2zM9 17H7v-7h2v7zm4 0h-2V7h2v10zm4 0h-2v-4h2v4z\"/>\n",
              "    </g>\n",
              "</svg>\n",
              "  </button>\n",
              "\n",
              "<style>\n",
              "  .colab-df-quickchart {\n",
              "      --bg-color: #E8F0FE;\n",
              "      --fill-color: #1967D2;\n",
              "      --hover-bg-color: #E2EBFA;\n",
              "      --hover-fill-color: #174EA6;\n",
              "      --disabled-fill-color: #AAA;\n",
              "      --disabled-bg-color: #DDD;\n",
              "  }\n",
              "\n",
              "  [theme=dark] .colab-df-quickchart {\n",
              "      --bg-color: #3B4455;\n",
              "      --fill-color: #D2E3FC;\n",
              "      --hover-bg-color: #434B5C;\n",
              "      --hover-fill-color: #FFFFFF;\n",
              "      --disabled-bg-color: #3B4455;\n",
              "      --disabled-fill-color: #666;\n",
              "  }\n",
              "\n",
              "  .colab-df-quickchart {\n",
              "    background-color: var(--bg-color);\n",
              "    border: none;\n",
              "    border-radius: 50%;\n",
              "    cursor: pointer;\n",
              "    display: none;\n",
              "    fill: var(--fill-color);\n",
              "    height: 32px;\n",
              "    padding: 0;\n",
              "    width: 32px;\n",
              "  }\n",
              "\n",
              "  .colab-df-quickchart:hover {\n",
              "    background-color: var(--hover-bg-color);\n",
              "    box-shadow: 0 1px 2px rgba(60, 64, 67, 0.3), 0 1px 3px 1px rgba(60, 64, 67, 0.15);\n",
              "    fill: var(--button-hover-fill-color);\n",
              "  }\n",
              "\n",
              "  .colab-df-quickchart-complete:disabled,\n",
              "  .colab-df-quickchart-complete:disabled:hover {\n",
              "    background-color: var(--disabled-bg-color);\n",
              "    fill: var(--disabled-fill-color);\n",
              "    box-shadow: none;\n",
              "  }\n",
              "\n",
              "  .colab-df-spinner {\n",
              "    border: 2px solid var(--fill-color);\n",
              "    border-color: transparent;\n",
              "    border-bottom-color: var(--fill-color);\n",
              "    animation:\n",
              "      spin 1s steps(1) infinite;\n",
              "  }\n",
              "\n",
              "  @keyframes spin {\n",
              "    0% {\n",
              "      border-color: transparent;\n",
              "      border-bottom-color: var(--fill-color);\n",
              "      border-left-color: var(--fill-color);\n",
              "    }\n",
              "    20% {\n",
              "      border-color: transparent;\n",
              "      border-left-color: var(--fill-color);\n",
              "      border-top-color: var(--fill-color);\n",
              "    }\n",
              "    30% {\n",
              "      border-color: transparent;\n",
              "      border-left-color: var(--fill-color);\n",
              "      border-top-color: var(--fill-color);\n",
              "      border-right-color: var(--fill-color);\n",
              "    }\n",
              "    40% {\n",
              "      border-color: transparent;\n",
              "      border-right-color: var(--fill-color);\n",
              "      border-top-color: var(--fill-color);\n",
              "    }\n",
              "    60% {\n",
              "      border-color: transparent;\n",
              "      border-right-color: var(--fill-color);\n",
              "    }\n",
              "    80% {\n",
              "      border-color: transparent;\n",
              "      border-right-color: var(--fill-color);\n",
              "      border-bottom-color: var(--fill-color);\n",
              "    }\n",
              "    90% {\n",
              "      border-color: transparent;\n",
              "      border-bottom-color: var(--fill-color);\n",
              "    }\n",
              "  }\n",
              "</style>\n",
              "\n",
              "  <script>\n",
              "    async function quickchart(key) {\n",
              "      const quickchartButtonEl =\n",
              "        document.querySelector('#' + key + ' button');\n",
              "      quickchartButtonEl.disabled = true;  // To prevent multiple clicks.\n",
              "      quickchartButtonEl.classList.add('colab-df-spinner');\n",
              "      try {\n",
              "        const charts = await google.colab.kernel.invokeFunction(\n",
              "            'suggestCharts', [key], {});\n",
              "      } catch (error) {\n",
              "        console.error('Error during call to suggestCharts:', error);\n",
              "      }\n",
              "      quickchartButtonEl.classList.remove('colab-df-spinner');\n",
              "      quickchartButtonEl.classList.add('colab-df-quickchart-complete');\n",
              "    }\n",
              "    (() => {\n",
              "      let quickchartButtonEl =\n",
              "        document.querySelector('#df-32621689-0d15-4a8b-b813-d25fcedc881a button');\n",
              "      quickchartButtonEl.style.display =\n",
              "        google.colab.kernel.accessAllowed ? 'block' : 'none';\n",
              "    })();\n",
              "  </script>\n",
              "</div>\n",
              "\n",
              "    </div>\n",
              "  </div>\n"
            ],
            "text/plain": [
              "    price    year manufacturer                 model  condition    cylinders  \\\n",
              "31  15000  2013.0         ford             f-150 xlt  excellent  6 cylinders   \n",
              "55  19900  2004.0         ford       f250 super duty       good  8 cylinders   \n",
              "59  14000  2012.0        honda               odyssey  excellent  6 cylinders   \n",
              "65  22500  2001.0         ford                  f450       good  8 cylinders   \n",
              "73  15000  2017.0        dodge  charger rt 4dr sedan  excellent  8 cylinders   \n",
              "\n",
              "         size      type paint_color  \\\n",
              "31  full-size     truck       black   \n",
              "55  full-size    pickup        blue   \n",
              "59  full-size  mini-van      silver   \n",
              "65  full-size     truck       white   \n",
              "73   mid-size     sedan        grey   \n",
              "\n",
              "                                          description state  \n",
              "31  2013 F-150 XLT V6 4 Door. Good condition. Leve...    al  \n",
              "55  Here I have a unmolested Ford F-250 6.0 power ...    al  \n",
              "59  Readily available. Excellent condition, clean ...    al  \n",
              "65  Ford Super Duty F450 , XL with King Ranch seat...    al  \n",
              "73        2017 dodge charger rt runs great $15,000.00    al  "
            ]
          },
          "execution_count": 4,
          "metadata": {},
          "output_type": "execute_result"
        }
      ],
      "source": [
        "# Charger les données\n",
        "\n",
        "df = pd.read_csv(file_path, usecols=['price', 'year', 'manufacturer', 'model', 'condition', 'cylinders', 'size',\n",
        "                                     'type', 'paint_color', 'state', 'description'], engine='python')\n",
        "df.dropna(inplace=True)\n",
        "df.head()"
      ]
    },
    {
      "cell_type": "markdown",
      "metadata": {
        "id": "QOAcN2p2KSCl"
      },
      "source": [
        "### 🔹 Encodage des variables catégoriques"
      ]
    },
    {
      "cell_type": "code",
      "execution_count": null,
      "metadata": {
        "colab": {
          "background_save": true
        },
        "id": "nLfC2C4RKSCl",
        "outputId": "0e3e396e-872a-4e9d-8910-cc0b2ccbc3f7"
      },
      "outputs": [
        {
          "ename": "NameError",
          "evalue": "name 'df' is not defined",
          "output_type": "error",
          "traceback": [
            "\u001b[0;31m---------------------------------------------------------------------------\u001b[0m",
            "\u001b[0;31mNameError\u001b[0m                                 Traceback (most recent call last)",
            "\u001b[0;32m<ipython-input-4-77a5ae075f62>\u001b[0m in \u001b[0;36m<cell line: 0>\u001b[0;34m()\u001b[0m\n\u001b[1;32m      1\u001b[0m \u001b[0mcategorical_cols\u001b[0m \u001b[0;34m=\u001b[0m \u001b[0;34m[\u001b[0m\u001b[0;34m'manufacturer'\u001b[0m\u001b[0;34m,\u001b[0m \u001b[0;34m'model'\u001b[0m\u001b[0;34m,\u001b[0m \u001b[0;34m'condition'\u001b[0m\u001b[0;34m,\u001b[0m \u001b[0;34m'cylinders'\u001b[0m\u001b[0;34m,\u001b[0m \u001b[0;34m'size'\u001b[0m\u001b[0;34m,\u001b[0m \u001b[0;34m'type'\u001b[0m\u001b[0;34m,\u001b[0m \u001b[0;34m'paint_color'\u001b[0m\u001b[0;34m,\u001b[0m \u001b[0;34m'state'\u001b[0m\u001b[0;34m]\u001b[0m\u001b[0;34m\u001b[0m\u001b[0;34m\u001b[0m\u001b[0m\n\u001b[1;32m      2\u001b[0m \u001b[0mencoder\u001b[0m \u001b[0;34m=\u001b[0m \u001b[0mOneHotEncoder\u001b[0m\u001b[0;34m(\u001b[0m\u001b[0msparse_output\u001b[0m\u001b[0;34m=\u001b[0m\u001b[0;32mTrue\u001b[0m\u001b[0;34m,\u001b[0m \u001b[0mdrop\u001b[0m\u001b[0;34m=\u001b[0m\u001b[0;34m'first'\u001b[0m\u001b[0;34m)\u001b[0m\u001b[0;34m\u001b[0m\u001b[0;34m\u001b[0m\u001b[0m\n\u001b[0;32m----> 3\u001b[0;31m \u001b[0mencoded_features\u001b[0m \u001b[0;34m=\u001b[0m \u001b[0mencoder\u001b[0m\u001b[0;34m.\u001b[0m\u001b[0mfit_transform\u001b[0m\u001b[0;34m(\u001b[0m\u001b[0mdf\u001b[0m\u001b[0;34m[\u001b[0m\u001b[0mcategorical_cols\u001b[0m\u001b[0;34m]\u001b[0m\u001b[0;34m)\u001b[0m\u001b[0;34m\u001b[0m\u001b[0;34m\u001b[0m\u001b[0m\n\u001b[0m\u001b[1;32m      4\u001b[0m \u001b[0mdf_encoded\u001b[0m \u001b[0;34m=\u001b[0m \u001b[0mpd\u001b[0m\u001b[0;34m.\u001b[0m\u001b[0mDataFrame\u001b[0m\u001b[0;34m.\u001b[0m\u001b[0msparse\u001b[0m\u001b[0;34m.\u001b[0m\u001b[0mfrom_spmatrix\u001b[0m\u001b[0;34m(\u001b[0m\u001b[0mencoded_features\u001b[0m\u001b[0;34m,\u001b[0m \u001b[0mcolumns\u001b[0m\u001b[0;34m=\u001b[0m\u001b[0mencoder\u001b[0m\u001b[0;34m.\u001b[0m\u001b[0mget_feature_names_out\u001b[0m\u001b[0;34m(\u001b[0m\u001b[0mcategorical_cols\u001b[0m\u001b[0;34m)\u001b[0m\u001b[0;34m)\u001b[0m\u001b[0;34m\u001b[0m\u001b[0;34m\u001b[0m\u001b[0m\n\u001b[1;32m      5\u001b[0m \u001b[0mdf\u001b[0m \u001b[0;34m=\u001b[0m \u001b[0mpd\u001b[0m\u001b[0;34m.\u001b[0m\u001b[0mconcat\u001b[0m\u001b[0;34m(\u001b[0m\u001b[0;34m[\u001b[0m\u001b[0mdf\u001b[0m\u001b[0;34m.\u001b[0m\u001b[0mdrop\u001b[0m\u001b[0;34m(\u001b[0m\u001b[0mcolumns\u001b[0m\u001b[0;34m=\u001b[0m\u001b[0mcategorical_cols\u001b[0m\u001b[0;34m)\u001b[0m\u001b[0;34m,\u001b[0m \u001b[0mdf_encoded\u001b[0m\u001b[0;34m]\u001b[0m\u001b[0;34m,\u001b[0m \u001b[0maxis\u001b[0m\u001b[0;34m=\u001b[0m\u001b[0;36m1\u001b[0m\u001b[0;34m)\u001b[0m\u001b[0;34m\u001b[0m\u001b[0;34m\u001b[0m\u001b[0m\n",
            "\u001b[0;31mNameError\u001b[0m: name 'df' is not defined"
          ]
        }
      ],
      "source": [
        "categorical_cols = ['manufacturer', 'model', 'condition', 'cylinders', 'size', 'type', 'paint_color', 'state']\n",
        "encoder = OneHotEncoder(sparse_output=True, drop='first')\n",
        "encoded_features = encoder.fit_transform(df[categorical_cols])\n",
        "df_encoded = pd.DataFrame.sparse.from_spmatrix(encoded_features, columns=encoder.get_feature_names_out(categorical_cols))\n",
        "df = pd.concat([df.drop(columns=categorical_cols), df_encoded], axis=1)\n"
      ]
    },
    {
      "cell_type": "markdown",
      "metadata": {
        "id": "ZrZkY-4LKSCm"
      },
      "source": [
        "### 🔹 Normalisation des features numériques"
      ]
    },
    {
      "cell_type": "code",
      "execution_count": null,
      "metadata": {
        "id": "x6fzFS7MKSCn"
      },
      "outputs": [],
      "source": [
        "scaler = StandardScaler()\n",
        "df[['year']] = scaler.fit_transform(df[['year']])\n",
        "df.head()"
      ]
    },
    {
      "cell_type": "markdown",
      "metadata": {
        "id": "Q7T63gUHKSCo"
      },
      "source": [
        "## 2️⃣ Entraînement du modèle de prédiction"
      ]
    },
    {
      "cell_type": "code",
      "execution_count": null,
      "metadata": {
        "id": "rQcx-0SHKSCo"
      },
      "outputs": [],
      "source": [
        "X = df.drop(columns=['price', 'description'])\n",
        "y = df['price']\n",
        "X_train, X_test, y_train, y_test = train_test_split(X, y, test_size=0.2, random_state=42)\n",
        "\n",
        "model = models.Sequential([\n",
        "    layers.Dense(256, activation='relu', input_shape=(X_train.shape[1],)),\n",
        "    layers.BatchNormalization(),\n",
        "    layers.Dropout(0.3),\n",
        "    layers.Dense(128, activation='relu'),\n",
        "    layers.BatchNormalization(),\n",
        "    layers.Dense(64, activation='relu'),\n",
        "    layers.Dense(1)\n",
        "])\n",
        "\n",
        "model.compile(optimizer='adam', loss='mse', metrics=['mae'])\n",
        "model.fit(X_train, y_train, epochs=20, batch_size=64, validation_data=(X_test, y_test))"
      ]
    },
    {
      "cell_type": "markdown",
      "metadata": {
        "id": "Swy-nFeYKSCp"
      },
      "source": [
        "## 3️⃣ Évaluation du modèle"
      ]
    },
    {
      "cell_type": "code",
      "execution_count": null,
      "metadata": {
        "id": "6V1YAtghKSCq"
      },
      "outputs": [],
      "source": [
        "y_pred = model.predict(X_test)\n",
        "plt.figure(figsize=(8, 6))\n",
        "sns.scatterplot(x=y_test, y=y_pred.flatten())\n",
        "plt.xlabel('Prix réel')\n",
        "plt.ylabel('Prix prédit')\n",
        "plt.title('Comparaison entre prix réel et prédit')\n",
        "plt.show()"
      ]
    },
    {
      "cell_type": "markdown",
      "metadata": {
        "id": "xKh4hFtOKSCq"
      },
      "source": [
        "## 4️⃣ Sauvegarde du modèle pour API"
      ]
    },
    {
      "cell_type": "code",
      "execution_count": null,
      "metadata": {
        "id": "8NNOVAR0KSCr"
      },
      "outputs": [],
      "source": [
        "model.save('car_price_model.h5')\n",
        "print('Modèle sauvegardé ✅')"
      ]
    },
    {
      "cell_type": "markdown",
      "metadata": {
        "id": "4kydWuN7KSCr"
      },
      "source": [
        "## 5️⃣ Génération d’images avec Stable Diffusion"
      ]
    },
    {
      "cell_type": "code",
      "execution_count": null,
      "metadata": {
        "id": "qRLUzUOeKSCr"
      },
      "outputs": [],
      "source": [
        "pipe = StableDiffusionPipeline.from_pretrained('CompVis/stable-diffusion-v1-4')\n",
        "pipe.to('cuda')\n",
        "\n",
        "def generate_car_image(description, predicted_price):\n",
        "    prompt = f'Voiture {description}, estimée à {int(predicted_price)}€, design moderne et détaillé'\n",
        "    image = pipe(prompt).images[0]\n",
        "    image.show()\n",
        "    image.save('generated_car.png')\n",
        "\n",
        "# Exemple d'utilisation\n",
        "predicted_price = model.predict(X_test.iloc[0:1])[0][0]\n",
        "description = df.iloc[0]['description']\n",
        "generate_car_image(description, predicted_price)"
      ]
    }
  ],
  "metadata": {
    "accelerator": "GPU",
    "colab": {
      "gpuType": "T4",
      "provenance": []
    },
    "kernelspec": {
      "display_name": "Python 3",
      "name": "python3"
    }
  },
  "nbformat": 4,
  "nbformat_minor": 0
}